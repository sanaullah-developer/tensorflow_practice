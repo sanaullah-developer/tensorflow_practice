{
  "nbformat": 4,
  "nbformat_minor": 0,
  "metadata": {
    "colab": {
      "provenance": [],
      "authorship_tag": "ABX9TyM9w/Tn4vBcssQXbL1lxnvP",
      "include_colab_link": true
    },
    "kernelspec": {
      "name": "python3",
      "display_name": "Python 3"
    },
    "language_info": {
      "name": "python"
    }
  },
  "cells": [
    {
      "cell_type": "markdown",
      "metadata": {
        "id": "view-in-github",
        "colab_type": "text"
      },
      "source": [
        "<a href=\"https://colab.research.google.com/github/sanaullah-developer/tensorflow_practice/blob/main/tensor_practice.ipynb\" target=\"_parent\"><img src=\"https://colab.research.google.com/assets/colab-badge.svg\" alt=\"Open In Colab\"/></a>"
      ]
    },
    {
      "cell_type": "code",
      "execution_count": null,
      "metadata": {
        "id": "TEn80u_mtRPU"
      },
      "outputs": [],
      "source": [
        "import tensorflow as tf"
      ]
    },
    {
      "cell_type": "code",
      "source": [
        "tensor_0D=tf.constant(5)"
      ],
      "metadata": {
        "id": "Vj9hLKwDtVVV"
      },
      "execution_count": null,
      "outputs": []
    },
    {
      "cell_type": "code",
      "source": [
        "print(tensor_0D)"
      ],
      "metadata": {
        "colab": {
          "base_uri": "https://localhost:8080/"
        },
        "id": "jZSGORi7tm2m",
        "outputId": "5deec4cc-060d-49a5-baeb-20a33390a1e9"
      },
      "execution_count": null,
      "outputs": [
        {
          "output_type": "stream",
          "name": "stdout",
          "text": [
            "tf.Tensor(5, shape=(), dtype=int32)\n"
          ]
        }
      ]
    },
    {
      "cell_type": "code",
      "source": [
        "tensor_1D=tf.constant([1,2,3,4])\n",
        "print(tensor_1D)"
      ],
      "metadata": {
        "colab": {
          "base_uri": "https://localhost:8080/"
        },
        "id": "XuAC2fXHtq4h",
        "outputId": "49694130-c094-4176-f04c-e44c50c71819"
      },
      "execution_count": null,
      "outputs": [
        {
          "output_type": "stream",
          "name": "stdout",
          "text": [
            "tf.Tensor([1 2 3 4], shape=(4,), dtype=int32)\n"
          ]
        }
      ]
    },
    {
      "cell_type": "code",
      "source": [
        "tensor_2D=tf.constant([\n",
        "    [1,2,3,4],\n",
        "    [2,3,4,5],\n",
        "    [5,6,7,8]\n",
        "])\n",
        "print(tensor_2D)"
      ],
      "metadata": {
        "colab": {
          "base_uri": "https://localhost:8080/"
        },
        "id": "GMlv-_k3t2oB",
        "outputId": "aedf9b41-be88-4469-fb51-aaf01010cb69"
      },
      "execution_count": null,
      "outputs": [
        {
          "output_type": "stream",
          "name": "stdout",
          "text": [
            "tf.Tensor(\n",
            "[[1 2 3 4]\n",
            " [2 3 4 5]\n",
            " [5 6 7 8]], shape=(3, 4), dtype=int32)\n"
          ]
        }
      ]
    },
    {
      "cell_type": "code",
      "source": [
        "tensor_3D=tf.constant([\n",
        "    [[1,2,3,4],\n",
        "    [2,4,4,5],\n",
        "    [5,6,7,9]],\n",
        "    [[1,2,3,4],\n",
        "    [2,3,4,5],\n",
        "    [0,6,9,8]],\n",
        "    [[1,2,1,4],\n",
        "    [2,4,4,5],\n",
        "    [5,6,7,3]]\n",
        "])\n",
        "print(tensor_3D)"
      ],
      "metadata": {
        "colab": {
          "base_uri": "https://localhost:8080/"
        },
        "id": "HmxF31HvuOCC",
        "outputId": "149d9198-b982-4e48-ed01-3bd83b318e37"
      },
      "execution_count": null,
      "outputs": [
        {
          "output_type": "stream",
          "name": "stdout",
          "text": [
            "tf.Tensor(\n",
            "[[[1 2 3 4]\n",
            "  [2 4 4 5]\n",
            "  [5 6 7 9]]\n",
            "\n",
            " [[1 2 3 4]\n",
            "  [2 3 4 5]\n",
            "  [0 6 9 8]]\n",
            "\n",
            " [[1 2 1 4]\n",
            "  [2 4 4 5]\n",
            "  [5 6 7 3]]], shape=(3, 3, 4), dtype=int32)\n"
          ]
        }
      ]
    },
    {
      "cell_type": "code",
      "source": [
        "zeros=tf.zeros((3,4))\n",
        "print(zeros)"
      ],
      "metadata": {
        "colab": {
          "base_uri": "https://localhost:8080/"
        },
        "id": "_LrRpPqCuq7c",
        "outputId": "a86121ac-e32a-4172-af61-defd16f08468"
      },
      "execution_count": null,
      "outputs": [
        {
          "output_type": "stream",
          "name": "stdout",
          "text": [
            "tf.Tensor(\n",
            "[[0. 0. 0. 0.]\n",
            " [0. 0. 0. 0.]\n",
            " [0. 0. 0. 0.]], shape=(3, 4), dtype=float32)\n"
          ]
        }
      ]
    },
    {
      "cell_type": "code",
      "source": [
        "sample=tf.constant([\n",
        "  [1, 2, 3, 4],\n",
        "  [2, 4, 4, 5],\n",
        "  [5, 6, 7, 9]\n",
        "])\n",
        "zero_like=tf.zeros_like(sample)\n",
        "print(zero_like)"
      ],
      "metadata": {
        "colab": {
          "base_uri": "https://localhost:8080/"
        },
        "id": "sLoPCGKs12ec",
        "outputId": "fc24644c-ec1a-4b3d-fe5d-d75103afc370"
      },
      "execution_count": null,
      "outputs": [
        {
          "output_type": "stream",
          "name": "stdout",
          "text": [
            "tf.Tensor(\n",
            "[[0 0 0 0]\n",
            " [0 0 0 0]\n",
            " [0 0 0 0]], shape=(3, 4), dtype=int32)\n"
          ]
        }
      ]
    },
    {
      "cell_type": "code",
      "source": [
        "ones=tf.ones((3,4))\n",
        "print(ones)"
      ],
      "metadata": {
        "colab": {
          "base_uri": "https://localhost:8080/"
        },
        "id": "kMbEDLh02ovf",
        "outputId": "4d44c1f9-0b7a-47cd-b9ec-127455b8683a"
      },
      "execution_count": null,
      "outputs": [
        {
          "output_type": "stream",
          "name": "stdout",
          "text": [
            "tf.Tensor(\n",
            "[[1. 1. 1. 1.]\n",
            " [1. 1. 1. 1.]\n",
            " [1. 1. 1. 1.]], shape=(3, 4), dtype=float32)\n"
          ]
        }
      ]
    },
    {
      "cell_type": "code",
      "source": [
        "ones_like=tf.ones_like(sample)\n",
        "print(ones_like)"
      ],
      "metadata": {
        "colab": {
          "base_uri": "https://localhost:8080/"
        },
        "id": "iC-QiPpc3Zhp",
        "outputId": "d81b0779-8177-4037-fc20-40f196ddf51c"
      },
      "execution_count": null,
      "outputs": [
        {
          "output_type": "stream",
          "name": "stdout",
          "text": [
            "tf.Tensor(\n",
            "[[1 1 1 1]\n",
            " [1 1 1 1]\n",
            " [1 1 1 1]], shape=(3, 4), dtype=int32)\n"
          ]
        }
      ]
    },
    {
      "cell_type": "code",
      "source": [
        "filling=tf.fill((3,4),8)\n",
        "print(filling)"
      ],
      "metadata": {
        "colab": {
          "base_uri": "https://localhost:8080/"
        },
        "id": "WkEn9PzE3fOU",
        "outputId": "46df0447-05a0-438e-cc5f-c620a9ef9348"
      },
      "execution_count": null,
      "outputs": [
        {
          "output_type": "stream",
          "name": "stdout",
          "text": [
            "tf.Tensor(\n",
            "[[8 8 8 8]\n",
            " [8 8 8 8]\n",
            " [8 8 8 8]], shape=(3, 4), dtype=int32)\n"
          ]
        }
      ]
    },
    {
      "cell_type": "code",
      "source": [
        "eye_tensor=tf.eye(3)\n",
        "print(eye_tensor)"
      ],
      "metadata": {
        "colab": {
          "base_uri": "https://localhost:8080/"
        },
        "id": "hZgKQHw63pZJ",
        "outputId": "745df256-4980-424c-f6b7-e4087b676de2"
      },
      "execution_count": null,
      "outputs": [
        {
          "output_type": "stream",
          "name": "stdout",
          "text": [
            "tf.Tensor(\n",
            "[[1. 0. 0.]\n",
            " [0. 1. 0.]\n",
            " [0. 0. 1.]], shape=(3, 3), dtype=float32)\n"
          ]
        }
      ]
    },
    {
      "cell_type": "code",
      "source": [],
      "metadata": {
        "id": "qglp3IIX3ygJ"
      },
      "execution_count": null,
      "outputs": []
    }
  ]
}