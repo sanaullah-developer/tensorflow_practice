{
  "nbformat": 4,
  "nbformat_minor": 0,
  "metadata": {
    "colab": {
      "provenance": [],
      "authorship_tag": "ABX9TyP59fxPYD+FxNK6PSEcxGLA",
      "include_colab_link": true
    },
    "kernelspec": {
      "name": "python3",
      "display_name": "Python 3"
    },
    "language_info": {
      "name": "python"
    }
  },
  "cells": [
    {
      "cell_type": "markdown",
      "metadata": {
        "id": "view-in-github",
        "colab_type": "text"
      },
      "source": [
        "<a href=\"https://colab.research.google.com/github/sanaullah-developer/tensorflow_practice/blob/main/linear_algebra_and_einsum.ipynb\" target=\"_parent\"><img src=\"https://colab.research.google.com/assets/colab-badge.svg\" alt=\"Open In Colab\"/></a>"
      ]
    },
    {
      "cell_type": "code",
      "execution_count": 1,
      "metadata": {
        "id": "352QUIvgtGJO"
      },
      "outputs": [],
      "source": [
        "import tensorflow as tf"
      ]
    },
    {
      "cell_type": "code",
      "source": [
        "t1=tf.constant([\n",
        "    [1,2],\n",
        "    [3,4]\n",
        "])\n",
        "t2=tf.constant([\n",
        "    [5,6],\n",
        "    [7,8]\n",
        "])"
      ],
      "metadata": {
        "id": "LQU-M4dMtJCr"
      },
      "execution_count": 2,
      "outputs": []
    },
    {
      "cell_type": "code",
      "source": [
        "# linalg is a module in tensorflow mainly related to linear algebra\n",
        "print(tf.linalg.matmul(t1,t2)) # matmul is used for matrix multiplication\n",
        "print(t1@t2)# we can also use the \"@\" between matrix for matrix multiplication"
      ],
      "metadata": {
        "colab": {
          "base_uri": "https://localhost:8080/"
        },
        "id": "HitySU-mtaAl",
        "outputId": "b82a3e87-8244-4b54-aa76-ab22ea20ba60"
      },
      "execution_count": 5,
      "outputs": [
        {
          "output_type": "stream",
          "name": "stdout",
          "text": [
            "tf.Tensor(\n",
            "[[19 22]\n",
            " [43 50]], shape=(2, 2), dtype=int32)\n",
            "tf.Tensor(\n",
            "[[19 22]\n",
            " [43 50]], shape=(2, 2), dtype=int32)\n"
          ]
        }
      ]
    },
    {
      "cell_type": "code",
      "source": [
        "print(\"matrix before transpose\", t1)\n",
        "print(\" matrix after transpose\", tf.transpose(t1))"
      ],
      "metadata": {
        "colab": {
          "base_uri": "https://localhost:8080/"
        },
        "id": "jSxoRwfztkCB",
        "outputId": "02f7809b-531c-48ee-88a2-29f393673d26"
      },
      "execution_count": 8,
      "outputs": [
        {
          "output_type": "stream",
          "name": "stdout",
          "text": [
            "matrix before transpose tf.Tensor(\n",
            "[[1 2]\n",
            " [3 4]], shape=(2, 2), dtype=int32)\n",
            " matrix after transpose tf.Tensor(\n",
            "[[1 3]\n",
            " [2 4]], shape=(2, 2), dtype=int32)\n"
          ]
        }
      ]
    },
    {
      "cell_type": "code",
      "source": [
        "print(tf.linalg.adjoint(t1))"
      ],
      "metadata": {
        "colab": {
          "base_uri": "https://localhost:8080/"
        },
        "id": "HzYw5XRJuqAO",
        "outputId": "a47f73b6-9333-4fa9-e1e9-76b4af58ec8e"
      },
      "execution_count": 9,
      "outputs": [
        {
          "output_type": "stream",
          "name": "stdout",
          "text": [
            "tf.Tensor(\n",
            "[[1 3]\n",
            " [2 4]], shape=(2, 2), dtype=int32)\n"
          ]
        }
      ]
    },
    {
      "cell_type": "code",
      "source": [
        "print(\"dot product in normal way\",t1*t2)\n",
        "print(\"dot product in einsum way\",tf.einsum(\"ij,ij-> ij\",t1,t2)) #dot product"
      ],
      "metadata": {
        "colab": {
          "base_uri": "https://localhost:8080/"
        },
        "id": "fdmdVCxcwYAX",
        "outputId": "b6410eac-7cd7-484e-ad35-482f3d7aeb85"
      },
      "execution_count": 14,
      "outputs": [
        {
          "output_type": "stream",
          "name": "stdout",
          "text": [
            "dot product in normal way tf.Tensor(\n",
            "[[ 5 12]\n",
            " [21 32]], shape=(2, 2), dtype=int32)\n",
            "dot product in einsum way tf.Tensor(\n",
            "[[ 5 12]\n",
            " [21 32]], shape=(2, 2), dtype=int32)\n"
          ]
        }
      ]
    },
    {
      "cell_type": "code",
      "source": [
        "print(\"cross product in normal way\",t1@t2)\n",
        "print(\"cross product in einsum way\",tf.einsum(\"ij,jk->ik\",t1,t2))"
      ],
      "metadata": {
        "colab": {
          "base_uri": "https://localhost:8080/"
        },
        "id": "MCTDGdrFxsB1",
        "outputId": "cc4f0076-305f-4115-c659-c8f22dac5d48"
      },
      "execution_count": 17,
      "outputs": [
        {
          "output_type": "stream",
          "name": "stdout",
          "text": [
            "cross product in normal way tf.Tensor(\n",
            "[[19 22]\n",
            " [43 50]], shape=(2, 2), dtype=int32)\n",
            "cross product in einsum way tf.Tensor(\n",
            "[[19 22]\n",
            " [43 50]], shape=(2, 2), dtype=int32)\n"
          ]
        }
      ]
    },
    {
      "cell_type": "code",
      "source": [
        "print(\"transpose in normal way\",tf.transpose(t1))\n",
        "print(\"transpose in einsum way\",tf.einsum(\"ij->ji\",t1))"
      ],
      "metadata": {
        "colab": {
          "base_uri": "https://localhost:8080/"
        },
        "id": "E-OWAGCN1Az4",
        "outputId": "1c495144-08f3-46c8-bddd-f2e4dd56a33f"
      },
      "execution_count": 19,
      "outputs": [
        {
          "output_type": "stream",
          "name": "stdout",
          "text": [
            "transpose in normal way tf.Tensor(\n",
            "[[1 3]\n",
            " [2 4]], shape=(2, 2), dtype=int32)\n",
            "transpose in einsum way tf.Tensor(\n",
            "[[1 3]\n",
            " [2 4]], shape=(2, 2), dtype=int32)\n"
          ]
        }
      ]
    },
    {
      "cell_type": "code",
      "source": [],
      "metadata": {
        "id": "EfS4Q60a2B2x"
      },
      "execution_count": null,
      "outputs": []
    }
  ]
}